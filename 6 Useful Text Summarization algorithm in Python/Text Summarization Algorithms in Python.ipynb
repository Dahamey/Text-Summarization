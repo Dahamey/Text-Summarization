{
 "cells": [
  {
   "cell_type": "markdown",
   "id": "a0560f98",
   "metadata": {},
   "source": [
    "<h1 style=\"text-align:center;\">6 Handy Text Summarization Algorithms in Python</h1>"
   ]
  },
  {
   "cell_type": "markdown",
   "id": "d81e3043",
   "metadata": {},
   "source": [
    "<u>**Author</u> :** [Younes Dahami](https://www.linkedin.com/in/dahami/)"
   ]
  },
  {
   "cell_type": "markdown",
   "id": "4152f82d",
   "metadata": {},
   "source": [
    "# Introduction\n",
    "\n",
    "Excited about Python algorithms that can condense vast amounts of text into concise, insightful summaries? Get set for a thrilling dive into text summarization with Python, where words turn into meaningful insights in no time. In this comprehensive guide, we'll unveil the secrets of one of NLP's most captivating applications.\n",
    "\n",
    "This notebook is our portal to mastering the art of extracting crucial information from mountains (heaps) of data. Join us as we delve into algorithms, explore top-notch libraries, and simplify the entire process, step by step. By journey's end, you'll have the power to transform lengthy articles, research papers, and documents into concise, digestible jewels.\n",
    "\n",
    "![alt](text_summarization.png)"
   ]
  },
  {
   "cell_type": "markdown",
   "id": "bd6f389c",
   "metadata": {},
   "source": [
    "Text summarization involves two distinct scenarios : **Extractive** and **Abstractive** :\n",
    "\n",
    "**Extractive Text Summarization :** involves extracting important information from large volumes of text and organizing it into concise summaries. This method selects text based on factors such as the text to be summarized, the most crucial sentences (Top K), and the importance of each sentence to the overall topic. However, this approach is limited to predefined parameters, which can sometimes result in biased extracted text.\n",
    "\n",
    "**Abstractive Text Summarization :** involves generating readable sentences from the <u>entire text input</u>. It rewrites large volumes of text by creating appropriate representations, which are then analyzed and summarized using natural language processing. What sets this approach apart is its AI-like ability to understand text using a machine's semantic capabilities and refine it using NLP techniques.\n"
   ]
  },
  {
   "cell_type": "markdown",
   "id": "5568f43c",
   "metadata": {},
   "source": [
    "\"Extractive text summarization\" is commonly used by automated text summarizers due to its simplicity in many scenarios. Meanwhile, the \"abstractive summarization\" method, although not as straightforward to use as the extractive one, offers significant benefits in many cases. In many ways, it serves as a precursor to fully automated AI authoring tools. However, this doesn't mean that extractive summarization is obsolete.\n",
    "\n",
    "![alt](extractive_abstractive.png)"
   ]
  },
  {
   "cell_type": "markdown",
   "id": "d41f3354",
   "metadata": {},
   "source": [
    "# 6 Techniques for Text Summarization\n",
    "\n",
    "Below are 6 approaches to text summarization, incorporating both abstractive and extractive methods."
   ]
  },
  {
   "cell_type": "markdown",
   "id": "aebe9abf",
   "metadata": {},
   "source": [
    "### 1) SUMY\n",
    "\n",
    "`Sumy` is a library and command line utility designed for extracting summaries from HTML pages or plain texts. It offers various algorithms for summarization, such as LSA, Luhn, Edmundson, and others.\n",
    "\n",
    "* **Latent Semantic Analysis (LSA) :** also known as Latent Semantic Indexing (LSI), is a technique in natural language processing and information retrieval used for analyzing relationships between a set of documents and the terms they contain. LSA aims to capture the underlying structure of the text corpus by representing words and documents in a high-dimensional semantic space. In text summarization, LSA can be used to identify important concepts and relationships within the text, allowing for the generation of concise summaries that capture the main ideas.\n",
    "\n",
    "\n",
    "* **Luhn Algorithm :** proposed by Hans Peter Luhn in 1958, is a statistical approach to automatic text summarization. This algorithm assigns a score to each sentence in a document based on the frequency of important words or phrases. The basic idea behind the Luhn Algorithm is to prioritize sentences that contain a high frequency of significant terms, assuming that these sentences are more likely to convey essential information. In text summarization, the Luhn Algorithm is used to identify and select sentences with the most relevant content for inclusion in the summary.\n",
    "\n",
    "\n",
    "* **Edmundson Algorithm :** introduced by Harold Edmundson in 1969, is another statistical method for automatic text summarization. Similar to the Luhn Algorithm, the Edmundson Algorithm assigns scores to sentences based on the occurrence of specific keywords or phrases. However, the Edmundson Algorithm also incorporates additional features, such as word location and syntactic cues, to determine the importance of sentences. By considering various factors, including keyword frequency, position, and grammatical structure, the Edmundson Algorithm aims to produce more informative and coherent summaries. In text summarization, the Edmundson Algorithm is utilized to identify important sentences that effectively capture the main points of the document.\n"
   ]
  },
  {
   "cell_type": "markdown",
   "id": "75b5db56",
   "metadata": {},
   "source": [
    "These algorithms represent different approaches to text summarization, each with its strengths and limitations. Depending on the characteristics of the text and the requirements of the summarization task, one algorithm may be more suitable than others for generating concise and informative summaries."
   ]
  },
  {
   "cell_type": "markdown",
   "id": "b56b86a2",
   "metadata": {},
   "source": [
    "Here's an example of how to use Sumy with the LSA algorithm :"
   ]
  },
  {
   "cell_type": "code",
   "execution_count": 1,
   "id": "2900bc1e",
   "metadata": {},
   "outputs": [],
   "source": [
    "#!pip install sumy"
   ]
  },
  {
   "cell_type": "code",
   "execution_count": 2,
   "id": "eeee7a3f",
   "metadata": {},
   "outputs": [
    {
     "name": "stdout",
     "output_type": "stream",
     "text": [
      "Original Text :\n",
      "\n",
      "Natural Language Processing (NLP) is a fascinating field that sits at the intersection of linguistics, computer science, artificial intelligence, and information engineering. Its primary aim is to enable computers to understand, interpret, and generate human language in a meaningful way. NLP encompasses a wide range of tasks, including speech recognition, language understanding, sentiment analysis, machine translation, and text summarization.\n",
      "\n",
      "One of the fundamental challenges in NLP is dealing with the inherent ambiguity and complexity of human language. Unlike programming languages, which have strict syntax and semantics, natural languages like English, Spanish, and Chinese are highly nuanced and context-dependent. This complexity arises from factors such as homonyms, synonyms, idioms, sarcasm, and cultural references, making it challenging for computers to accurately process and analyze text.\n",
      "\n",
      "Text summarization is a crucial task in NLP, aiming to distill the essential information from a document while preserving its meaning and key insights. There are two main approaches to text summarization: extractive and abstractive. Extractive summarization involves selecting a subset of sentences or phrases from the original text to form the summary, whereas abstractive summarization involves generating new sentences that capture the main ideas of the document in a concise and coherent manner.\n",
      "\n",
      "Extractive summarization techniques often rely on statistical methods, graph algorithms, or machine learning models to identify the most informative sentences based on criteria such as sentence importance, relevance, and diversity. These techniques may involve ranking sentences using features such as word frequency, sentence length, and semantic similarity, or constructing sentence graphs and applying graph-based algorithms like PageRank or TextRank.\n",
      "\n",
      "Abstractive summarization, on the other hand, is more challenging and requires advanced natural language generation techniques, such as neural networks and sequence-to-sequence models. These models learn to generate summaries by mapping input sequences (source text) to output sequences (summaries) using deep learning architectures like recurrent neural networks (RNNs), long short-term memory networks (LSTMs), or transformer models.\n",
      "\n",
      "Despite significant advancements in NLP and text summarization, many challenges remain. These include handling ambiguity and context, generating coherent and grammatically correct summaries, preserving factual accuracy and avoiding bias, and scaling summarization models to process large volumes of text efficiently. Addressing these challenges requires interdisciplinary research and collaboration across fields such as linguistics, cognitive science, computer science, and artificial intelligence.\n",
      "\n",
      "In summary, natural language processing and text summarization are essential areas of research with broad applications in fields such as information retrieval, document summarization, question answering, sentiment analysis, and conversational agents. By enabling computers to understand and process human language, NLP holds the promise of revolutionizing how we interact with technology and access information in the digital age.\n",
      "\n",
      "\n",
      "Summary :\n",
      "\n",
      "Natural Language Processing (NLP) is a fascinating field that sits at the intersection of linguistics, computer science, artificial intelligence, and information engineering.\n",
      "NLP encompasses a wide range of tasks, including speech recognition, language understanding, sentiment analysis, machine translation, and text summarization.\n",
      "These models learn to generate summaries by mapping input sequences (source text) to output sequences (summaries) using deep learning architectures like recurrent neural networks (RNNs), long short-term memory networks (LSTMs), or transformer models.\n"
     ]
    }
   ],
   "source": [
    "from sumy.parsers.plaintext import PlaintextParser\n",
    "from sumy.nlp.tokenizers import Tokenizer\n",
    "from sumy.summarizers.lsa import LsaSummarizer\n",
    "import warnings\n",
    "warnings.filterwarnings('ignore')\n",
    "\n",
    "# Input text to be summarized\n",
    "input_text = \"\"\"\n",
    "Natural Language Processing (NLP) is a fascinating field that sits at the intersection of linguistics, computer science, artificial intelligence, and information engineering. Its primary aim is to enable computers to understand, interpret, and generate human language in a meaningful way. NLP encompasses a wide range of tasks, including speech recognition, language understanding, sentiment analysis, machine translation, and text summarization.\n",
    "\n",
    "One of the fundamental challenges in NLP is dealing with the inherent ambiguity and complexity of human language. Unlike programming languages, which have strict syntax and semantics, natural languages like English, Spanish, and Chinese are highly nuanced and context-dependent. This complexity arises from factors such as homonyms, synonyms, idioms, sarcasm, and cultural references, making it challenging for computers to accurately process and analyze text.\n",
    "\n",
    "Text summarization is a crucial task in NLP, aiming to distill the essential information from a document while preserving its meaning and key insights. There are two main approaches to text summarization: extractive and abstractive. Extractive summarization involves selecting a subset of sentences or phrases from the original text to form the summary, whereas abstractive summarization involves generating new sentences that capture the main ideas of the document in a concise and coherent manner.\n",
    "\n",
    "Extractive summarization techniques often rely on statistical methods, graph algorithms, or machine learning models to identify the most informative sentences based on criteria such as sentence importance, relevance, and diversity. These techniques may involve ranking sentences using features such as word frequency, sentence length, and semantic similarity, or constructing sentence graphs and applying graph-based algorithms like PageRank or TextRank.\n",
    "\n",
    "Abstractive summarization, on the other hand, is more challenging and requires advanced natural language generation techniques, such as neural networks and sequence-to-sequence models. These models learn to generate summaries by mapping input sequences (source text) to output sequences (summaries) using deep learning architectures like recurrent neural networks (RNNs), long short-term memory networks (LSTMs), or transformer models.\n",
    "\n",
    "Despite significant advancements in NLP and text summarization, many challenges remain. These include handling ambiguity and context, generating coherent and grammatically correct summaries, preserving factual accuracy and avoiding bias, and scaling summarization models to process large volumes of text efficiently. Addressing these challenges requires interdisciplinary research and collaboration across fields such as linguistics, cognitive science, computer science, and artificial intelligence.\n",
    "\n",
    "In summary, natural language processing and text summarization are essential areas of research with broad applications in fields such as information retrieval, document summarization, question answering, sentiment analysis, and conversational agents. By enabling computers to understand and process human language, NLP holds the promise of revolutionizing how we interact with technology and access information in the digital age.\n",
    "\"\"\"\n",
    "\n",
    "# Parse the input text\n",
    "parser = PlaintextParser.from_string(input_text, Tokenizer(\"english\"))\n",
    "\n",
    "# Create an LSA summarizer\n",
    "summarizer = LsaSummarizer()\n",
    "\n",
    "# Generate the summary : # we can adjust the number of sentences in the summary\n",
    "summary = summarizer(parser.document, sentences_count = 3)\n",
    "\n",
    "# Output the summary\n",
    "print(f\"Original Text :\\n{input_text}\")\n",
    "print(\"\\nSummary :\\n\")\n",
    "for sentence in summary :\n",
    "    print(sentence)"
   ]
  },
  {
   "cell_type": "markdown",
   "id": "641f4840",
   "metadata": {},
   "source": [
    "### 2) BERT Extractive Summarization\n",
    "\n",
    "BERT, which stands for **Bidirectional Encoder Representations from Transformers**, is a state-of-the-art natural language processing (NLP) model developed by researchers at Google AI Language. It represents a significant advancement in NLP by leveraging the Transformer architecture and pre-training techniques to generate contextualized word embeddings.\n",
    "\n",
    "Key features of BERT include:\n",
    "\n",
    "* **Bidirectional Context :** BERT is designed to capture bidirectional context by jointly training on both left-to-right (forward) and right-to-left (backward) directions. This allows BERT to understand the context of each word based on the entire input sequence, enabling more accurate representations of word meanings.\n",
    "\n",
    "\n",
    "* **Transformer Architecture :** BERT is built upon the Transformer architecture, which consists of self-attention mechanisms and feed-forward neural networks. This architecture enables BERT to efficiently model long-range dependencies in text and capture intricate linguistic patterns.\n",
    "\n",
    "\n",
    "* **Pre-training** and **Fine-tuning :** BERT is pre-trained on large corpora of text data using unsupervised learning objectives, such as masked language modeling and next sentence prediction. After pre-training, BERT can be fine-tuned on downstream NLP tasks with labeled data to adapt its representations for specific tasks, such as sentiment analysis, named entity recognition, and question answering.\n",
    "\n",
    "\n",
    "* **Contextualized Embeddings :** BERT produces contextualized word embeddings, meaning that the representation of each word depends on its surrounding context within the input sequence. This allows BERT to generate more accurate and contextually rich representations of words, leading to better performance on various NLP tasks.\n"
   ]
  },
  {
   "cell_type": "markdown",
   "id": "dd085125",
   "metadata": {},
   "source": [
    "BERT has achieved state-of-the-art results on a wide range of NLP benchmarks and tasks, demonstrating its effectiveness in understanding and processing natural language text. Its availability in various pre-trained versions, such as BERT-base and BERT-large, has made it widely adopted in both research and industry for various NLP applications.\n",
    "\n",
    "![alt](BERT.png)"
   ]
  },
  {
   "cell_type": "markdown",
   "id": "5938d035",
   "metadata": {},
   "source": [
    "**BERT** can also be utilized for extractive summarization. In this approach, sentences are ranked according to their significance, and the top-ranked sentences constitute the summary. The `bert-extractive-summarizer` library offers a straightforward interface for BERT-based extractive summarization."
   ]
  },
  {
   "cell_type": "code",
   "execution_count": 3,
   "id": "a12c369c",
   "metadata": {},
   "outputs": [],
   "source": [
    "#!pip install bert-extractive-summarizer"
   ]
  },
  {
   "cell_type": "markdown",
   "id": "2ab076f4",
   "metadata": {},
   "source": [
    "Here’s an example of how to use BERT for extractive summarization :"
   ]
  },
  {
   "cell_type": "code",
   "execution_count": 4,
   "id": "791cf183",
   "metadata": {},
   "outputs": [
    {
     "name": "stdout",
     "output_type": "stream",
     "text": [
      "Original Text :\n",
      "\n",
      "Le domaine de l'apprentissage automatique (AA) est une branche passionnante de l'intelligence artificielle (IA) qui consiste à développer des algorithmes capables d'apprendre à partir de données pour effectuer des tâches spécifiques sans être explicitement programmés. L'une des applications les plus fascinantes de l'AA est le résumé automatique de texte, qui vise à réduire la taille d'un texte tout en conservant ses informations essentielles.\n",
      "\n",
      "Le résumé automatique de texte peut être réalisé de différentes manières, notamment par extraction et par abstraction. Dans la méthode d'extraction, les phrases ou paragraphes les plus pertinents sont identifiés et extraits du texte source pour former un résumé. En revanche, dans la méthode d'abstraction, un modèle d'AA génère de nouveaux mots, phrases ou paragraphes qui capturent l'essence du texte source.\n",
      "\n",
      "Les modèles de résumé automatique de texte reposent souvent sur des techniques avancées de traitement du langage naturel (TLN) et de Deep Learning. Les réseaux de neurones récurrents (RNR) et les réseaux neuronaux convolutionnels (RNC) sont couramment utilisés pour traiter les données textuelles et générer des résumés de qualité. De plus, les modèles basés sur les transformers, tels que BERT, GPT et T5, ont révolutionné le résumé automatique de texte en utilisant des mécanismes d'attention pour capturer les relations contextuelles entre les mots et les phrases.\n",
      "\n",
      "Cependant, le résumé automatique de texte pose plusieurs défis, notamment la préservation de la cohérence, de la précision et du sens du texte original. Les modèles doivent être capables de comprendre le contexte et les nuances du langage humain pour produire des résumés qui sont à la fois concis et informatifs.\n",
      "\n",
      "En plus du résumé automatique de texte extractive et abstractive, il existe également d'autres approches, telles que la résumé par clustering, qui regroupe les phrases similaires pour former des résumés, et la résumé par classification, qui classe les phrases en fonction de leur importance pour créer un résumé.\n",
      "\n",
      "L'impact de l'AA sur le résumé automatique de texte est significatif dans de nombreux domaines, notamment la recherche académique, le journalisme, la veille stratégique, et même l'aide à la prise de décision dans les entreprises. Les systèmes de résumé automatique permettent de traiter de grandes quantités d'informations rapidement et efficacement, ce qui peut être particulièrement utile dans un monde où l'information est omniprésente et en constante expansion.\n",
      "\n",
      "Cependant, malgré les avancées remarquables, le résumé automatique de texte n'est pas encore parfait et reste un domaine de recherche actif. Des défis persistants, tels que la génération de résumés fidèles au contenu original, la gestion des biais et des opinions, ainsi que l'adaptation à différents types de textes et de langues, nécessitent des efforts continus de la part des chercheurs et des praticiens.\n",
      "\n",
      "\n",
      "Summary :\n",
      " Le résumé automatique de texte peut être réalisé de différentes manières, notamment par extraction et par abstraction. Cependant, le résumé automatique de texte pose plusieurs défis, notamment la préservation de la cohérence, de la précision et du sens du texte original.\n"
     ]
    }
   ],
   "source": [
    "from summarizer import Summarizer\n",
    "\n",
    "# Input text to be summarized\n",
    "input_text = \"\"\"\n",
    "Le domaine de l'apprentissage automatique (AA) est une branche passionnante de l'intelligence artificielle (IA) qui consiste à développer des algorithmes capables d'apprendre à partir de données pour effectuer des tâches spécifiques sans être explicitement programmés. L'une des applications les plus fascinantes de l'AA est le résumé automatique de texte, qui vise à réduire la taille d'un texte tout en conservant ses informations essentielles.\n",
    "\n",
    "Le résumé automatique de texte peut être réalisé de différentes manières, notamment par extraction et par abstraction. Dans la méthode d'extraction, les phrases ou paragraphes les plus pertinents sont identifiés et extraits du texte source pour former un résumé. En revanche, dans la méthode d'abstraction, un modèle d'AA génère de nouveaux mots, phrases ou paragraphes qui capturent l'essence du texte source.\n",
    "\n",
    "Les modèles de résumé automatique de texte reposent souvent sur des techniques avancées de traitement du langage naturel (TLN) et de Deep Learning. Les réseaux de neurones récurrents (RNR) et les réseaux neuronaux convolutionnels (RNC) sont couramment utilisés pour traiter les données textuelles et générer des résumés de qualité. De plus, les modèles basés sur les transformers, tels que BERT, GPT et T5, ont révolutionné le résumé automatique de texte en utilisant des mécanismes d'attention pour capturer les relations contextuelles entre les mots et les phrases.\n",
    "\n",
    "Cependant, le résumé automatique de texte pose plusieurs défis, notamment la préservation de la cohérence, de la précision et du sens du texte original. Les modèles doivent être capables de comprendre le contexte et les nuances du langage humain pour produire des résumés qui sont à la fois concis et informatifs.\n",
    "\n",
    "En plus du résumé automatique de texte extractive et abstractive, il existe également d'autres approches, telles que la résumé par clustering, qui regroupe les phrases similaires pour former des résumés, et la résumé par classification, qui classe les phrases en fonction de leur importance pour créer un résumé.\n",
    "\n",
    "L'impact de l'AA sur le résumé automatique de texte est significatif dans de nombreux domaines, notamment la recherche académique, le journalisme, la veille stratégique, et même l'aide à la prise de décision dans les entreprises. Les systèmes de résumé automatique permettent de traiter de grandes quantités d'informations rapidement et efficacement, ce qui peut être particulièrement utile dans un monde où l'information est omniprésente et en constante expansion.\n",
    "\n",
    "Cependant, malgré les avancées remarquables, le résumé automatique de texte n'est pas encore parfait et reste un domaine de recherche actif. Des défis persistants, tels que la génération de résumés fidèles au contenu original, la gestion des biais et des opinions, ainsi que l'adaptation à différents types de textes et de langues, nécessitent des efforts continus de la part des chercheurs et des praticiens.\n",
    "\"\"\"\n",
    "\n",
    "# Create a BERT extractive summarizer\n",
    "summarizer = Summarizer()\n",
    "\n",
    "# Generate the summary : we can adjust the 'min_length' and 'max_length' parameters\n",
    "summary = summarizer(input_text,\n",
    "                    min_length = 60,\n",
    "                    max_length = 170)\n",
    "\n",
    "# Output the summary\n",
    "print(f\"Original Text :\\n{input_text}\")\n",
    "print(f\"\\nSummary :\\n {summary}\")"
   ]
  },
  {
   "cell_type": "markdown",
   "id": "ec33ad72",
   "metadata": {},
   "source": [
    "### 3) BART Abstractive Summarization\n",
    "\n",
    "\"In addition to extractive summarization, **BART** can also be employed for abstractive summarization. Here's how you can utilize BART for abstractive summarization using the `transformers` library :"
   ]
  },
  {
   "cell_type": "code",
   "execution_count": 5,
   "id": "2e8fcb95",
   "metadata": {},
   "outputs": [],
   "source": [
    "# \"pt\": Return PyTorch tensors.\n",
    "# \"tf\": Return TensorFlow tensors.\n",
    "# \"np\": Return NumPy arrays."
   ]
  },
  {
   "cell_type": "code",
   "execution_count": 6,
   "id": "1bdbe04d",
   "metadata": {
    "scrolled": false
   },
   "outputs": [
    {
     "name": "stdout",
     "output_type": "stream",
     "text": [
      "Length of Tokenized Input: 579\n",
      "Original Text :\n",
      "\n",
      "Natural Language Processing (NLP) is a fascinating field that sits at the intersection of linguistics, computer science, artificial intelligence, and information engineering. Its primary aim is to enable computers to understand, interpret, and generate human language in a meaningful way. NLP encompasses a wide range of tasks, including speech recognition, language understanding, sentiment analysis, machine translation, and text summarization.\n",
      "\n",
      "One of the fundamental challenges in NLP is dealing with the inherent ambiguity and complexity of human language. Unlike programming languages, which have strict syntax and semantics, natural languages like English, Spanish, and Chinese are highly nuanced and context-dependent. This complexity arises from factors such as homonyms, synonyms, idioms, sarcasm, and cultural references, making it challenging for computers to accurately process and analyze text.\n",
      "\n",
      "Text summarization is a crucial task in NLP, aiming to distill the essential information from a document while preserving its meaning and key insights. There are two main approaches to text summarization: extractive and abstractive. Extractive summarization involves selecting a subset of sentences or phrases from the original text to form the summary, whereas abstractive summarization involves generating new sentences that capture the main ideas of the document in a concise and coherent manner.\n",
      "\n",
      "Extractive summarization techniques often rely on statistical methods, graph algorithms, or machine learning models to identify the most informative sentences based on criteria such as sentence importance, relevance, and diversity. These techniques may involve ranking sentences using features such as word frequency, sentence length, and semantic similarity, or constructing sentence graphs and applying graph-based algorithms like PageRank or TextRank.\n",
      "\n",
      "Abstractive summarization, on the other hand, is more challenging and requires advanced natural language generation techniques, such as neural networks and sequence-to-sequence models. These models learn to generate summaries by mapping input sequences (source text) to output sequences (summaries) using deep learning architectures like recurrent neural networks (RNNs), long short-term memory networks (LSTMs), or transformer models.\n",
      "\n",
      "Despite significant advancements in NLP and text summarization, many challenges remain. These include handling ambiguity and context, generating coherent and grammatically correct summaries, preserving factual accuracy and avoiding bias, and scaling summarization models to process large volumes of text efficiently. Addressing these challenges requires interdisciplinary research and collaboration across fields such as linguistics, cognitive science, computer science, and artificial intelligence.\n",
      "\n",
      "In summary, natural language processing and text summarization are essential areas of research with broad applications in fields such as information retrieval, document summarization, question answering, sentiment analysis, and conversational agents. By enabling computers to understand and process human language, NLP holds the promise of revolutionizing how we interact with technology and access information in the digital age.\n",
      "\n",
      "\n",
      "Summary :\n",
      " Natural Language Processing (NLP) is a field that sits at the intersection of linguistics, computer science, artificial intelligence, and information engineering. Its primary aim is to enable computers to understand, interpret, and generate human language in a meaningful way. NLP encompasses a wide range of tasks, including speech recognition, language understanding, sentiment analysis, machine translation and text summarization.\n"
     ]
    }
   ],
   "source": [
    "from transformers import BartTokenizer, BartForConditionalGeneration\n",
    "\n",
    "# load pre-trained BART model & tokenizer\n",
    "pretrained_model_name = \"facebook/bart-large-cnn\"\n",
    "tokenizer = BartTokenizer.from_pretrained(pretrained_model_name_or_path = pretrained_model_name)\n",
    "model = BartForConditionalGeneration.from_pretrained(pretrained_model_name)\n",
    "\n",
    "# Input text to be summarized\n",
    "input_text = \"\"\"\n",
    "Natural Language Processing (NLP) is a fascinating field that sits at the intersection of linguistics, computer science, artificial intelligence, and information engineering. Its primary aim is to enable computers to understand, interpret, and generate human language in a meaningful way. NLP encompasses a wide range of tasks, including speech recognition, language understanding, sentiment analysis, machine translation, and text summarization.\n",
    "\n",
    "One of the fundamental challenges in NLP is dealing with the inherent ambiguity and complexity of human language. Unlike programming languages, which have strict syntax and semantics, natural languages like English, Spanish, and Chinese are highly nuanced and context-dependent. This complexity arises from factors such as homonyms, synonyms, idioms, sarcasm, and cultural references, making it challenging for computers to accurately process and analyze text.\n",
    "\n",
    "Text summarization is a crucial task in NLP, aiming to distill the essential information from a document while preserving its meaning and key insights. There are two main approaches to text summarization: extractive and abstractive. Extractive summarization involves selecting a subset of sentences or phrases from the original text to form the summary, whereas abstractive summarization involves generating new sentences that capture the main ideas of the document in a concise and coherent manner.\n",
    "\n",
    "Extractive summarization techniques often rely on statistical methods, graph algorithms, or machine learning models to identify the most informative sentences based on criteria such as sentence importance, relevance, and diversity. These techniques may involve ranking sentences using features such as word frequency, sentence length, and semantic similarity, or constructing sentence graphs and applying graph-based algorithms like PageRank or TextRank.\n",
    "\n",
    "Abstractive summarization, on the other hand, is more challenging and requires advanced natural language generation techniques, such as neural networks and sequence-to-sequence models. These models learn to generate summaries by mapping input sequences (source text) to output sequences (summaries) using deep learning architectures like recurrent neural networks (RNNs), long short-term memory networks (LSTMs), or transformer models.\n",
    "\n",
    "Despite significant advancements in NLP and text summarization, many challenges remain. These include handling ambiguity and context, generating coherent and grammatically correct summaries, preserving factual accuracy and avoiding bias, and scaling summarization models to process large volumes of text efficiently. Addressing these challenges requires interdisciplinary research and collaboration across fields such as linguistics, cognitive science, computer science, and artificial intelligence.\n",
    "\n",
    "In summary, natural language processing and text summarization are essential areas of research with broad applications in fields such as information retrieval, document summarization, question answering, sentiment analysis, and conversational agents. By enabling computers to understand and process human language, NLP holds the promise of revolutionizing how we interact with technology and access information in the digital age.\n",
    "\"\"\"\n",
    "\n",
    "# Tokenize & summarize the input text using BART\n",
    "inputs = tokenizer.encode(\"Summarize: \" + input_text,\n",
    "                          return_tensors = \"pt\", # pytorch tensors\n",
    "                          max_length = 1025,\n",
    "                          truncation = True)\n",
    "print(\"Length of Tokenized Input:\", len(inputs[0]))\n",
    "summary_ids = model.generate(inputs,\n",
    "                              max_length = 150,\n",
    "                              min_length = 60,\n",
    "                              length_penalty = 2.0,\n",
    "                              num_beams = 4,\n",
    "                              early_stopping = True)\n",
    "\n",
    "\n",
    "# Decode & output the summary \n",
    "summary = tokenizer.decode(summary_ids[0], skip_special_tokens = True)\n",
    "print(f\"Original Text :\\n{input_text}\")\n",
    "print(f\"\\nSummary :\\n {summary}\")"
   ]
  },
  {
   "cell_type": "markdown",
   "id": "52a47554",
   "metadata": {},
   "source": [
    "* **`length_penalty` :** This parameter is used to modify the length of the generated sequences during decoding. It encourages the model to generate sequences with a certain length. A higher value for length_penalty encourages longer sequences, while a lower value encourages shorter ones. Typically, length_penalty is set to a value greater than 1 to encourage longer sequences. In our example, length_penalty = 2.0 means that the model slightly favors longer sequences.\n",
    "\n",
    "\n",
    "* **`num_beams` :** Beam search is a technique used in sequence generation tasks where the model considers multiple candidate sequences during decoding. `num_beams` specifies the number of beams (or candidate sequences) that the model should consider. A higher value for `num_beams` increases the diversity of the generated sequences but also increases computation time. In our example, num_beams = 4 means that the model considers four candidate sequences during decoding.\n",
    "\n",
    "These parameters are important for controlling the trade-off between the quality and diversity of the generated summaries. Adjusting them can help in obtaining summaries that better match the desired characteristics."
   ]
  },
  {
   "cell_type": "markdown",
   "id": "56480093",
   "metadata": {},
   "source": [
    "### 4) T5 Abstractive Summarization\n",
    "\n",
    "**T5 (Text-to-Text Transfer Transformer)** is a versatile transformer model suitable for various NLP tasks, including summarization. Here's how we can utilize T5 for abstractive summarization using the `transformers` library :\n"
   ]
  },
  {
   "cell_type": "code",
   "execution_count": 7,
   "id": "4639bea0",
   "metadata": {},
   "outputs": [],
   "source": [
    "#!pip install SentencePiece"
   ]
  },
  {
   "cell_type": "code",
   "execution_count": 11,
   "id": "804f47a0",
   "metadata": {},
   "outputs": [
    {
     "name": "stderr",
     "output_type": "stream",
     "text": [
      "Special tokens have been added in the vocabulary, make sure the associated word embeddings are fine-tuned or trained.\n"
     ]
    },
    {
     "name": "stdout",
     "output_type": "stream",
     "text": [
      "Length of Tokenized Input: 635\n",
      "Original Text :\n",
      "\n",
      "Natural Language Processing (NLP) is a fascinating field that sits at the intersection of linguistics, computer science, artificial intelligence, and information engineering. Its primary aim is to enable computers to understand, interpret, and generate human language in a meaningful way. NLP encompasses a wide range of tasks, including speech recognition, language understanding, sentiment analysis, machine translation, and text summarization.\n",
      "\n",
      "One of the fundamental challenges in NLP is dealing with the inherent ambiguity and complexity of human language. Unlike programming languages, which have strict syntax and semantics, natural languages like English, Spanish, and Chinese are highly nuanced and context-dependent. This complexity arises from factors such as homonyms, synonyms, idioms, sarcasm, and cultural references, making it challenging for computers to accurately process and analyze text.\n",
      "\n",
      "Text summarization is a crucial task in NLP, aiming to distill the essential information from a document while preserving its meaning and key insights. There are two main approaches to text summarization: extractive and abstractive. Extractive summarization involves selecting a subset of sentences or phrases from the original text to form the summary, whereas abstractive summarization involves generating new sentences that capture the main ideas of the document in a concise and coherent manner.\n",
      "\n",
      "Extractive summarization techniques often rely on statistical methods, graph algorithms, or machine learning models to identify the most informative sentences based on criteria such as sentence importance, relevance, and diversity. These techniques may involve ranking sentences using features such as word frequency, sentence length, and semantic similarity, or constructing sentence graphs and applying graph-based algorithms like PageRank or TextRank.\n",
      "\n",
      "Abstractive summarization, on the other hand, is more challenging and requires advanced natural language generation techniques, such as neural networks and sequence-to-sequence models. These models learn to generate summaries by mapping input sequences (source text) to output sequences (summaries) using deep learning architectures like recurrent neural networks (RNNs), long short-term memory networks (LSTMs), or transformer models.\n",
      "\n",
      "Despite significant advancements in NLP and text summarization, many challenges remain. These include handling ambiguity and context, generating coherent and grammatically correct summaries, preserving factual accuracy and avoiding bias, and scaling summarization models to process large volumes of text efficiently. Addressing these challenges requires interdisciplinary research and collaboration across fields such as linguistics, cognitive science, computer science, and artificial intelligence.\n",
      "\n",
      "In summary, natural language processing and text summarization are essential areas of research with broad applications in fields such as information retrieval, document summarization, question answering, sentiment analysis, and conversational agents. By enabling computers to understand and process human language, NLP holds the promise of revolutionizing how we interact with technology and access information in the digital age.\n",
      "\n",
      "\n",
      "Summary :\n",
      " : Natural Language Processing (NLP) is a fascinating field that sits at the intersection of linguistics, computer science, artificial intelligence, and information engineering. NLP encompasses a wide range of tasks, including speech recognition, language understanding, sentiment analysis, machine translation. Abstractive summarization involves generating new sentences that capture the main ideas of the document in a concise and coherent manner.\n"
     ]
    }
   ],
   "source": [
    "from transformers import T5Tokenizer, T5ForConditionalGeneration\n",
    "\n",
    "# load pre-trained T5 model & tokenizer\n",
    "pretrained_model_name = \"t5-small\"\n",
    "tokenizer = T5Tokenizer.from_pretrained(pretrained_model_name_or_path = pretrained_model_name)\n",
    "model = T5ForConditionalGeneration.from_pretrained(pretrained_model_name)\n",
    "\n",
    "# Input text to be summarized\n",
    "input_text = \"\"\"\n",
    "Natural Language Processing (NLP) is a fascinating field that sits at the intersection of linguistics, computer science, artificial intelligence, and information engineering. Its primary aim is to enable computers to understand, interpret, and generate human language in a meaningful way. NLP encompasses a wide range of tasks, including speech recognition, language understanding, sentiment analysis, machine translation, and text summarization.\n",
    "\n",
    "One of the fundamental challenges in NLP is dealing with the inherent ambiguity and complexity of human language. Unlike programming languages, which have strict syntax and semantics, natural languages like English, Spanish, and Chinese are highly nuanced and context-dependent. This complexity arises from factors such as homonyms, synonyms, idioms, sarcasm, and cultural references, making it challenging for computers to accurately process and analyze text.\n",
    "\n",
    "Text summarization is a crucial task in NLP, aiming to distill the essential information from a document while preserving its meaning and key insights. There are two main approaches to text summarization: extractive and abstractive. Extractive summarization involves selecting a subset of sentences or phrases from the original text to form the summary, whereas abstractive summarization involves generating new sentences that capture the main ideas of the document in a concise and coherent manner.\n",
    "\n",
    "Extractive summarization techniques often rely on statistical methods, graph algorithms, or machine learning models to identify the most informative sentences based on criteria such as sentence importance, relevance, and diversity. These techniques may involve ranking sentences using features such as word frequency, sentence length, and semantic similarity, or constructing sentence graphs and applying graph-based algorithms like PageRank or TextRank.\n",
    "\n",
    "Abstractive summarization, on the other hand, is more challenging and requires advanced natural language generation techniques, such as neural networks and sequence-to-sequence models. These models learn to generate summaries by mapping input sequences (source text) to output sequences (summaries) using deep learning architectures like recurrent neural networks (RNNs), long short-term memory networks (LSTMs), or transformer models.\n",
    "\n",
    "Despite significant advancements in NLP and text summarization, many challenges remain. These include handling ambiguity and context, generating coherent and grammatically correct summaries, preserving factual accuracy and avoiding bias, and scaling summarization models to process large volumes of text efficiently. Addressing these challenges requires interdisciplinary research and collaboration across fields such as linguistics, cognitive science, computer science, and artificial intelligence.\n",
    "\n",
    "In summary, natural language processing and text summarization are essential areas of research with broad applications in fields such as information retrieval, document summarization, question answering, sentiment analysis, and conversational agents. By enabling computers to understand and process human language, NLP holds the promise of revolutionizing how we interact with technology and access information in the digital age.\n",
    "\"\"\"\n",
    "\n",
    "# Tokenize & summarize the input text using T5\n",
    "inputs = tokenizer.encode(\"Summarize : \"+input_text,\n",
    "                         return_tensors = \"pt\",\n",
    "                         max_length = 1025,\n",
    "                         truncation = True)\n",
    "print(\"Length of Tokenized Input:\", len(inputs[0]))\n",
    "summary_ids = model.generate(inputs,\n",
    "                            max_length = 150,\n",
    "                            min_length = 60,\n",
    "                            length_penalty = 2.0,\n",
    "                            num_beams = 4,\n",
    "                            early_stopping = True)\n",
    "\n",
    "# Decode & output the summary\n",
    "summary = tokenizer.decode(summary_ids[0], skip_special_tokens = True)\n",
    "print(f\"Original Text :\\n{input_text}\")\n",
    "print(f\"\\nSummary :\\n {summary}\")"
   ]
  },
  {
   "cell_type": "markdown",
   "id": "c81b1b40",
   "metadata": {},
   "source": [
    "### 5) Gensim\n",
    "\n",
    "**Gensim** is a Python library primarily used for topic modeling and document similarity analysis. It also offers a straightforward implementation of **TextRank**, an unsupervised algorithm based on graph theory."
   ]
  },
  {
   "cell_type": "markdown",
   "id": "567a109b",
   "metadata": {},
   "source": [
    "**TextRank** is an unsupervised graph-based ranking algorithm that is commonly used for keyword extraction and text summarization tasks. It was introduced as an extension of Google's PageRank algorithm, which ranks web pages based on their importance on the web.\n",
    "\n",
    "In TextRank, the text is represented as a graph, where nodes represent individual units of text (such as words or sentences), and edges represent the relationships between them. The algorithm works by iteratively updating the ranking scores of nodes based on the structure of the graph.\n",
    "\n",
    "Here's how TextRank works:\n",
    "\n",
    "* **Graph Construction :** First, the text is preprocessed to tokenize it into individual units (usually words or sentences). Then, a graph is constructed where each node represents a unit of text, and edges between nodes represent relationships such as co-occurrence or similarity. Typically, the similarity between nodes is computed using metrics like \"cosine similarity\" or \"Jaccard similarity\".\n",
    "\n",
    "* **Node Weight Calculation :** Each node in the graph is assigned an initial weight based on some criteria, such as the frequency of occurrence of the corresponding word or the importance of the corresponding sentence. These weights represent the importance of each unit of text in the graph.\n",
    "\n",
    "* **Iterative Ranking :** The TextRank algorithm iteratively updates the ranking scores of nodes based on the importance of their neighboring nodes. During each iteration, the ranking score of a node is computed as a weighted sum of the ranking scores of its neighbors. The weights are determined by the strength of the relationships between nodes, which can be measured using metrics like \"edge weights\" or \"similarity scores\".\n",
    "\n",
    "* **Convergence :** The iterative process continues until the ranking scores of the nodes converge to stable values. Typically, convergence is achieved when the difference between successive iterations falls below a predefined threshold.\n",
    "\n",
    "* **Ranking :** Once the algorithm converges, the nodes are ranked based on their final ranking scores. The top-ranked nodes are considered to be the most important units of text in the original document and can be used for tasks such as \"keyword extraction\" or \"text summarization\".\n",
    "\n",
    "TextRank has been widely used in various natural language processing tasks, including keyword extraction, text summarization, and document clustering, due to its simplicity, effectiveness, and unsupervised nature."
   ]
  },
  {
   "cell_type": "code",
   "execution_count": 35,
   "id": "8bc31770",
   "metadata": {},
   "outputs": [],
   "source": [
    "#!pip install \"gensim==3.8.2\""
   ]
  },
  {
   "cell_type": "markdown",
   "id": "a6c652d0",
   "metadata": {},
   "source": [
    "The `ratio` parameter in the summarize function from `gensim.summarization` module controls the length of the generated summary relative to the original text."
   ]
  },
  {
   "cell_type": "code",
   "execution_count": 23,
   "id": "d7a4ef76",
   "metadata": {},
   "outputs": [],
   "source": [
    "#from gensim.summarization import summarize\n",
    "\n",
    "# Input text to be summarized\n",
    "input_text = \"\"\"\n",
    "Natural Language Processing (NLP) is a fascinating field that sits at the intersection of linguistics, computer science, artificial intelligence, and information engineering. Its primary aim is to enable computers to understand, interpret, and generate human language in a meaningful way. NLP encompasses a wide range of tasks, including speech recognition, language understanding, sentiment analysis, machine translation, and text summarization.\n",
    "\n",
    "One of the fundamental challenges in NLP is dealing with the inherent ambiguity and complexity of human language. Unlike programming languages, which have strict syntax and semantics, natural languages like English, Spanish, and Chinese are highly nuanced and context-dependent. This complexity arises from factors such as homonyms, synonyms, idioms, sarcasm, and cultural references, making it challenging for computers to accurately process and analyze text.\n",
    "\n",
    "Text summarization is a crucial task in NLP, aiming to distill the essential information from a document while preserving its meaning and key insights. There are two main approaches to text summarization: extractive and abstractive. Extractive summarization involves selecting a subset of sentences or phrases from the original text to form the summary, whereas abstractive summarization involves generating new sentences that capture the main ideas of the document in a concise and coherent manner.\n",
    "\n",
    "Extractive summarization techniques often rely on statistical methods, graph algorithms, or machine learning models to identify the most informative sentences based on criteria such as sentence importance, relevance, and diversity. These techniques may involve ranking sentences using features such as word frequency, sentence length, and semantic similarity, or constructing sentence graphs and applying graph-based algorithms like PageRank or TextRank.\n",
    "\n",
    "Abstractive summarization, on the other hand, is more challenging and requires advanced natural language generation techniques, such as neural networks and sequence-to-sequence models. These models learn to generate summaries by mapping input sequences (source text) to output sequences (summaries) using deep learning architectures like recurrent neural networks (RNNs), long short-term memory networks (LSTMs), or transformer models.\n",
    "\n",
    "Despite significant advancements in NLP and text summarization, many challenges remain. These include handling ambiguity and context, generating coherent and grammatically correct summaries, preserving factual accuracy and avoiding bias, and scaling summarization models to process large volumes of text efficiently. Addressing these challenges requires interdisciplinary research and collaboration across fields such as linguistics, cognitive science, computer science, and artificial intelligence.\n",
    "\n",
    "In summary, natural language processing and text summarization are essential areas of research with broad applications in fields such as information retrieval, document summarization, question answering, sentiment analysis, and conversational agents. By enabling computers to understand and process human language, NLP holds the promise of revolutionizing how we interact with technology and access information in the digital age.\n",
    "\"\"\"\n",
    "\n",
    "# Generate the summary using TextRank algorithm : we can adjust the ratio parameter based on the summary length you desire\n",
    "#summary = summarize(input_text, ratio = 0.3)\n",
    "\n",
    "# Output summary\n",
    "#print(f\"Original Text :\\n{input_text}\")\n",
    "#print(f\"\\nSummary :\\n {summary}\")"
   ]
  },
  {
   "cell_type": "markdown",
   "id": "670b967b",
   "metadata": {},
   "source": [
    "### 6) TextTeaser\n",
    "\n",
    "TextTeaser is an automatic summarization algorithm designed to take an article and generate a summary. It relies on the TextRank algorithm and is effective at producing concise summaries."
   ]
  },
  {
   "cell_type": "code",
   "execution_count": 33,
   "id": "6cb51489",
   "metadata": {},
   "outputs": [],
   "source": [
    "#!pip install textteaser"
   ]
  },
  {
   "cell_type": "code",
   "execution_count": 34,
   "id": "7ec275cd",
   "metadata": {},
   "outputs": [],
   "source": [
    "#from textteaser import TextTeaser\n",
    "\n",
    "# Input text to summarize\n",
    "input_text = \"\"\"\n",
    "Natural Language Processing (NLP) is a fascinating field that sits at the intersection of linguistics, computer science, artificial intelligence, and information engineering. Its primary aim is to enable computers to understand, interpret, and generate human language in a meaningful way. NLP encompasses a wide range of tasks, including speech recognition, language understanding, sentiment analysis, machine translation, and text summarization.\n",
    "\n",
    "One of the fundamental challenges in NLP is dealing with the inherent ambiguity and complexity of human language. Unlike programming languages, which have strict syntax and semantics, natural languages like English, Spanish, and Chinese are highly nuanced and context-dependent. This complexity arises from factors such as homonyms, synonyms, idioms, sarcasm, and cultural references, making it challenging for computers to accurately process and analyze text.\n",
    "\n",
    "Text summarization is a crucial task in NLP, aiming to distill the essential information from a document while preserving its meaning and key insights. There are two main approaches to text summarization: extractive and abstractive. Extractive summarization involves selecting a subset of sentences or phrases from the original text to form the summary, whereas abstractive summarization involves generating new sentences that capture the main ideas of the document in a concise and coherent manner.\n",
    "\n",
    "Extractive summarization techniques often rely on statistical methods, graph algorithms, or machine learning models to identify the most informative sentences based on criteria such as sentence importance, relevance, and diversity. These techniques may involve ranking sentences using features such as word frequency, sentence length, and semantic similarity, or constructing sentence graphs and applying graph-based algorithms like PageRank or TextRank.\n",
    "\n",
    "Abstractive summarization, on the other hand, is more challenging and requires advanced natural language generation techniques, such as neural networks and sequence-to-sequence models. These models learn to generate summaries by mapping input sequences (source text) to output sequences (summaries) using deep learning architectures like recurrent neural networks (RNNs), long short-term memory networks (LSTMs), or transformer models.\n",
    "\n",
    "Despite significant advancements in NLP and text summarization, many challenges remain. These include handling ambiguity and context, generating coherent and grammatically correct summaries, preserving factual accuracy and avoiding bias, and scaling summarization models to process large volumes of text efficiently. Addressing these challenges requires interdisciplinary research and collaboration across fields such as linguistics, cognitive science, computer science, and artificial intelligence.\n",
    "\n",
    "In summary, natural language processing and text summarization are essential areas of research with broad applications in fields such as information retrieval, document summarization, question answering, sentiment analysis, and conversational agents. By enabling computers to understand and process human language, NLP holds the promise of revolutionizing how we interact with technology and access information in the digital age.\n",
    "\"\"\"\n",
    "\n",
    "# Create a TextTeaser object\n",
    "#tt = TextTeaser()\n",
    "\n",
    "# Generate the summary\n",
    "#summary = tt.summarize(input_text)\n",
    "\n",
    "# Output the summary\n",
    "#print(f\"Original Text :\\n{input_text}\")\n",
    "#print(f\"\\nSummary :\\n {summary}\")\n"
   ]
  },
  {
   "cell_type": "code",
   "execution_count": null,
   "id": "4e6464fb",
   "metadata": {},
   "outputs": [],
   "source": []
  }
 ],
 "metadata": {
  "kernelspec": {
   "display_name": "Python 3 (ipykernel)",
   "language": "python",
   "name": "python3"
  },
  "language_info": {
   "codemirror_mode": {
    "name": "ipython",
    "version": 3
   },
   "file_extension": ".py",
   "mimetype": "text/x-python",
   "name": "python",
   "nbconvert_exporter": "python",
   "pygments_lexer": "ipython3",
   "version": "3.10.10"
  }
 },
 "nbformat": 4,
 "nbformat_minor": 5
}
